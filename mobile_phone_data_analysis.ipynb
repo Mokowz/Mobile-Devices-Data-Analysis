{
 "cells": [
  {
   "cell_type": "code",
   "execution_count": 5,
   "id": "6a7e7c2f",
   "metadata": {},
   "outputs": [],
   "source": [
    "# Importing libraries\n",
    "import pandas as pd\n",
    "import matplotlib.pyplot as plt\n",
    "import seaborn as sns\n",
    "import numpy as np\n",
    "\n",
    "# Load data\n",
    "mobile_data = pd.read_csv(\"test.csv\")"
   ]
  },
  {
   "cell_type": "code",
   "execution_count": 4,
   "id": "8d6a9d84",
   "metadata": {},
   "outputs": [
    {
     "name": "stdout",
     "output_type": "stream",
     "text": [
      "   id  battery_power  blue  clock_speed  dual_sim  fc  four_g  int_memory  \\\n",
      "0   1           1043     1          1.8         1  14       0           5   \n",
      "1   2            841     1          0.5         1   4       1          61   \n",
      "2   3           1807     1          2.8         0   1       0          27   \n",
      "3   4           1546     0          0.5         1  18       1          25   \n",
      "4   5           1434     0          1.4         0  11       1          49   \n",
      "\n",
      "   m_dep  mobile_wt  ...  pc  px_height  px_width   ram  sc_h  sc_w  \\\n",
      "0    0.1        193  ...  16        226      1412  3476    12     7   \n",
      "1    0.8        191  ...  12        746       857  3895     6     0   \n",
      "2    0.9        186  ...   4       1270      1366  2396    17    10   \n",
      "3    0.5         96  ...  20        295      1752  3893    10     0   \n",
      "4    0.5        108  ...  18        749       810  1773    15     8   \n",
      "\n",
      "   talk_time  three_g  touch_screen  wifi  \n",
      "0          2        0             1     0  \n",
      "1          7        1             0     0  \n",
      "2         10        0             1     1  \n",
      "3          7        1             1     0  \n",
      "4          7        1             0     1  \n",
      "\n",
      "[5 rows x 21 columns]\n"
     ]
    }
   ],
   "source": [
    "# Observe the first columns\n",
    "print(mobile_data.head())"
   ]
  },
  {
   "cell_type": "code",
   "execution_count": 6,
   "id": "9215a474",
   "metadata": {},
   "outputs": [
    {
     "name": "stdout",
     "output_type": "stream",
     "text": [
      "<class 'pandas.core.frame.DataFrame'>\n",
      "RangeIndex: 1000 entries, 0 to 999\n",
      "Data columns (total 21 columns):\n",
      " #   Column         Non-Null Count  Dtype  \n",
      "---  ------         --------------  -----  \n",
      " 0   id             1000 non-null   int64  \n",
      " 1   battery_power  1000 non-null   int64  \n",
      " 2   blue           1000 non-null   int64  \n",
      " 3   clock_speed    1000 non-null   float64\n",
      " 4   dual_sim       1000 non-null   int64  \n",
      " 5   fc             1000 non-null   int64  \n",
      " 6   four_g         1000 non-null   int64  \n",
      " 7   int_memory     1000 non-null   int64  \n",
      " 8   m_dep          1000 non-null   float64\n",
      " 9   mobile_wt      1000 non-null   int64  \n",
      " 10  n_cores        1000 non-null   int64  \n",
      " 11  pc             1000 non-null   int64  \n",
      " 12  px_height      1000 non-null   int64  \n",
      " 13  px_width       1000 non-null   int64  \n",
      " 14  ram            1000 non-null   int64  \n",
      " 15  sc_h           1000 non-null   int64  \n",
      " 16  sc_w           1000 non-null   int64  \n",
      " 17  talk_time      1000 non-null   int64  \n",
      " 18  three_g        1000 non-null   int64  \n",
      " 19  touch_screen   1000 non-null   int64  \n",
      " 20  wifi           1000 non-null   int64  \n",
      "dtypes: float64(2), int64(19)\n",
      "memory usage: 164.2 KB\n",
      "None\n"
     ]
    }
   ],
   "source": [
    "# Summary statistics\n",
    "print(mobile_data.info())"
   ]
  },
  {
   "cell_type": "code",
   "execution_count": 8,
   "id": "522b700e",
   "metadata": {},
   "outputs": [
    {
     "name": "stdout",
     "output_type": "stream",
     "text": [
      "                id  battery_power         blue  clock_speed     dual_sim  \\\n",
      "count  1000.000000    1000.000000  1000.000000  1000.000000  1000.000000   \n",
      "mean    500.500000    1248.510000     0.516000     1.540900     0.517000   \n",
      "std     288.819436     432.458227     0.499994     0.829268     0.499961   \n",
      "min       1.000000     500.000000     0.000000     0.500000     0.000000   \n",
      "25%     250.750000     895.000000     0.000000     0.700000     0.000000   \n",
      "50%     500.500000    1246.500000     1.000000     1.500000     1.000000   \n",
      "75%     750.250000    1629.250000     1.000000     2.300000     1.000000   \n",
      "max    1000.000000    1999.000000     1.000000     3.000000     1.000000   \n",
      "\n",
      "                fc       four_g   int_memory        m_dep   mobile_wt  ...  \\\n",
      "count  1000.000000  1000.000000  1000.000000  1000.000000  1000.00000  ...   \n",
      "mean      4.593000     0.487000    33.652000     0.517500   139.51100  ...   \n",
      "std       4.463325     0.500081    18.128694     0.280861    34.85155  ...   \n",
      "min       0.000000     0.000000     2.000000     0.100000    80.00000  ...   \n",
      "25%       1.000000     0.000000    18.000000     0.300000   109.75000  ...   \n",
      "50%       3.000000     0.000000    34.500000     0.500000   139.00000  ...   \n",
      "75%       7.000000     1.000000    49.000000     0.800000   170.00000  ...   \n",
      "max      19.000000     1.000000    64.000000     1.000000   200.00000  ...   \n",
      "\n",
      "                pc    px_height     px_width          ram         sc_h  \\\n",
      "count  1000.000000  1000.000000  1000.000000  1000.000000  1000.000000   \n",
      "mean     10.054000   627.121000  1239.774000  2138.998000    11.995000   \n",
      "std       6.095099   432.929699   439.670981  1088.092278     4.320607   \n",
      "min       0.000000     0.000000   501.000000   263.000000     5.000000   \n",
      "25%       5.000000   263.750000   831.750000  1237.250000     8.000000   \n",
      "50%      10.000000   564.500000  1250.000000  2153.500000    12.000000   \n",
      "75%      16.000000   903.000000  1637.750000  3065.500000    16.000000   \n",
      "max      20.000000  1907.000000  1998.000000  3989.000000    19.000000   \n",
      "\n",
      "              sc_w    talk_time      three_g  touch_screen         wifi  \n",
      "count  1000.000000  1000.000000  1000.000000    1000.00000  1000.000000  \n",
      "mean      5.316000    11.085000     0.756000       0.50000     0.507000  \n",
      "std       4.240062     5.497636     0.429708       0.50025     0.500201  \n",
      "min       0.000000     2.000000     0.000000       0.00000     0.000000  \n",
      "25%       2.000000     6.750000     1.000000       0.00000     0.000000  \n",
      "50%       5.000000    11.000000     1.000000       0.50000     1.000000  \n",
      "75%       8.000000    16.000000     1.000000       1.00000     1.000000  \n",
      "max      18.000000    20.000000     1.000000       1.00000     1.000000  \n",
      "\n",
      "[8 rows x 21 columns]\n"
     ]
    }
   ],
   "source": [
    "# Further summary statistics\n",
    "print(mobile_data.describe(include=\"all\"))"
   ]
  },
  {
   "cell_type": "code",
   "execution_count": 19,
   "id": "751cd346",
   "metadata": {},
   "outputs": [
    {
     "name": "stdout",
     "output_type": "stream",
     "text": [
      "516 devices have bluetooth.\n",
      "484 devices do not have bluetooth.\n"
     ]
    },
    {
     "data": {
      "image/png": "[encoded data removed]",
      "text/plain": [
       "<Figure size 432x288 with 1 Axes>"
      ]
     },
     "metadata": {
      "needs_background": "light"
     },
     "output_type": "display_data"
    },
    {
     "data": {
      "text/plain": [
       "<Figure size 432x288 with 0 Axes>"
      ]
     },
     "metadata": {},
     "output_type": "display_data"
    }
   ],
   "source": [
    "# Devices with bt\n",
    "bt_devices = len(mobile_data[mobile_data[\"blue\"] == 1])\n",
    "print(bt_devices, \"devices have bluetooth.\")\n",
    "\n",
    "no_bt_devices = len(mobile_data[mobile_data[\"blue\"] == 0])\n",
    "print(no_bt_devices, \"devices do not have bluetooth.\")\n",
    "\n",
    "# Visualization of devices with bluetooth and those without\n",
    "sns.countplot(x=\"blue\", data=mobile_data)\n",
    "plt.xlabel(\"Bluetooth\")\n",
    "plt.title(\"Number of devices with bluetooth and those without\")\n",
    "plt.show()\n",
    "plt.clf()"
   ]
  },
  {
   "cell_type": "code",
   "execution_count": 23,
   "id": "a0de35dd",
   "metadata": {},
   "outputs": [
    {
     "name": "stdout",
     "output_type": "stream",
     "text": [
      "487 devices have 4G.\n",
      "513 devices do not have 4G.\n"
     ]
    },
    {
     "data": {
      "image/png": "[encoded data removed]",
      "text/plain": [
       "<Figure size 432x288 with 1 Axes>"
      ]
     },
     "metadata": {
      "needs_background": "light"
     },
     "output_type": "display_data"
    },
    {
     "data": {
      "text/plain": [
       "<Figure size 432x288 with 0 Axes>"
      ]
     },
     "metadata": {},
     "output_type": "display_data"
    }
   ],
   "source": [
    "# Devices with 4G\n",
    "devices_4g = len(mobile_data[mobile_data[\"four_g\"] == 1])\n",
    "print(devices_4g, \"devices have 4G.\")\n",
    "\n",
    "devices_4g_no = len(mobile_data[mobile_data[\"four_g\"] == 0])\n",
    "print(devices_4g_no, \"devices do not have 4G.\")\n",
    "\n",
    "# Visualize this\n",
    "sns.countplot(x=\"four_g\", data=mobile_data)\n",
    "plt.show()\n",
    "plt.clf()"
   ]
  },
  {
   "cell_type": "code",
   "execution_count": 29,
   "id": "27d0a61d",
   "metadata": {},
   "outputs": [
    {
     "name": "stdout",
     "output_type": "stream",
     "text": [
      "517 devices are dual sim.\n",
      "483 devices are not dual sim.\n"
     ]
    },
    {
     "data": {
      "image/png": "[encoded data removed]",
      "text/plain": [
       "<Figure size 432x288 with 1 Axes>"
      ]
     },
     "metadata": {
      "needs_background": "light"
     },
     "output_type": "display_data"
    },
    {
     "data": {
      "text/plain": [
       "<Figure size 432x288 with 0 Axes>"
      ]
     },
     "metadata": {},
     "output_type": "display_data"
    }
   ],
   "source": [
    "# Devices with dual sim\n",
    "dual_sim = len(mobile_data[mobile_data[\"dual_sim\"] == 1])\n",
    "print(dual_sim, \"devices are dual sim.\")\n",
    "\n",
    "no_dual_sim = len(mobile_data[mobile_data[\"dual_sim\"] == 0])\n",
    "print(no_dual_sim, \"devices are not dual sim.\")\n",
    "\n",
    "# Visualizing this\n",
    "sns.countplot(x=\"dual_sim\", data=mobile_data)\n",
    "plt.show()\n",
    "plt.clf()"
   ]
  },
  {
   "cell_type": "code",
   "execution_count": 44,
   "id": "562a8954",
   "metadata": {},
   "outputs": [
    {
     "name": "stdout",
     "output_type": "stream",
     "text": [
      "258 devices have 4G and are dual sim.\n",
      "742 devices do not have both 4G and dual sim.\n"
     ]
    },
    {
     "data": {
      "image/png": "[encoded data removed]",
      "text/plain": [
       "<Figure size 432x288 with 1 Axes>"
      ]
     },
     "metadata": {
      "needs_background": "light"
     },
     "output_type": "display_data"
    },
    {
     "data": {
      "text/plain": [
       "<Figure size 432x288 with 0 Axes>"
      ]
     },
     "metadata": {},
     "output_type": "display_data"
    }
   ],
   "source": [
    "# Number of mobile devices with 4g and dual sim\n",
    "mobile_data[\"dual_4g\"] = mobile_data.apply(lambda row: 1 if (row[\"four_g\"] == 1) and (row[\"dual_sim\"] == 1) else 0, axis=1)\n",
    "\n",
    "# print(mobile_data.head())\n",
    "\n",
    "devices_4g_dual = len(mobile_data[mobile_data.dual_4g == 1])\n",
    "print(devices_4g_dual, \"devices have 4G and are dual sim.\")\n",
    "\n",
    "devices_no_4g_dual = len(mobile_data[mobile_data.dual_4g == 0])\n",
    "print(devices_no_4g_dual, \"devices do not have both 4G and dual sim.\")\n",
    "\n",
    "# Visualizing this\n",
    "sns.countplot(x=\"dual_4g\", data=mobile_data)\n",
    "plt.show()\n",
    "plt.clf()"
   ]
  },
  {
   "cell_type": "code",
   "execution_count": 55,
   "id": "56bb6b45",
   "metadata": {},
   "outputs": [
    {
     "name": "stdout",
     "output_type": "stream",
     "text": [
      "131 devices have 4G internet, bluetooth and are dual sim.\n",
      "869 devices have neither 4G internet nor bluetooth nor are they dual sim.\n"
     ]
    },
    {
     "data": {
      "image/png": "[encoded data removed]",
      "text/plain": [
       "<Figure size 432x288 with 1 Axes>"
      ]
     },
     "metadata": {
      "needs_background": "light"
     },
     "output_type": "display_data"
    },
    {
     "data": {
      "text/plain": [
       "<Figure size 432x288 with 0 Axes>"
      ]
     },
     "metadata": {},
     "output_type": "display_data"
    }
   ],
   "source": [
    "# Devices with 4g, bt, and dual\n",
    "mobile_data[\"dual_bt_4g\"] = mobile_data.apply(lambda row: 1 if (row[\"four_g\"] == 1) and (row[\"dual_sim\"] == 1) and (row[\"blue\"] == 1) else 0, axis=1)\n",
    "\n",
    "# print(mobile_data.head())\n",
    "\n",
    "devices_bt_4g_dual = len(mobile_data[mobile_data[\"dual_bt_4g\"] == 1])\n",
    "print(devices_bt_4g_dual, \"devices have 4G internet, bluetooth and are dual sim.\")\n",
    "\n",
    "devices_no_bt_4g_dual = len(mobile_data[mobile_data[\"dual_bt_4g\"] == 0])\n",
    "print(devices_no_bt_4g_dual, \"devices have neither 4G internet nor bluetooth nor are they dual sim.\")\n",
    "\n",
    "# Visualize this\n",
    "sns.countplot(x=\"dual_bt_4g\", data=mobile_data)\n",
    "plt.show()\n",
    "plt.clf()\n"
   ]
  },
  {
   "cell_type": "code",
   "execution_count": 70,
   "id": "e4654128",
   "metadata": {},
   "outputs": [
    {
     "data": {
      "image/png": "[encoded data removed]",
      "text/plain": [
       "<Figure size 432x288 with 1 Axes>"
      ]
     },
     "metadata": {
      "needs_background": "light"
     },
     "output_type": "display_data"
    },
    {
     "name": "stdout",
     "output_type": "stream",
     "text": [
      "-0.007107273722094879 is the correlation coefficient.\n"
     ]
    },
    {
     "data": {
      "text/plain": [
       "<Figure size 432x288 with 0 Axes>"
      ]
     },
     "metadata": {},
     "output_type": "display_data"
    }
   ],
   "source": [
    "# Do devices with bigger internal memory have bigger ram\n",
    "# print(mobile_data.head())\n",
    "\n",
    "# Random subset\n",
    "mobile_data_sub = mobile_data.sample(n = int(mobile_data.shape[0] * 0.2))\n",
    "\n",
    "plt.scatter(x=mobile_data_sub[\"int_memory\"], y=mobile_data_sub[\"ram\"])\n",
    "plt.xlabel(\"Internal Memory\")\n",
    "plt.ylabel(\"RAM\")\n",
    "plt.show()\n",
    "plt.clf()\n",
    "\n",
    "# Correlation\n",
    "from scipy.stats import pearsonr\n",
    "import numpy as np\n",
    "\n",
    "mem_ram_corr = np.corrcoef(mobile_data[\"int_memory\"], mobile_data[\"ram\"])\n",
    "print(mem_ram_corr[0][1], \"is the correlation coefficient.\")\n",
    "\n",
    "# There is no association between internal memory and ram. Therefore devices with bigger internal memory dont necessarily have bigger ram."
   ]
  },
  {
   "cell_type": "code",
   "execution_count": 71,
   "id": "c32c3bcd",
   "metadata": {},
   "outputs": [
    {
     "data": {
      "image/png": "[encoded data removed]",
      "text/plain": [
       "<Figure size 432x288 with 1 Axes>"
      ]
     },
     "metadata": {
      "needs_background": "light"
     },
     "output_type": "display_data"
    },
    {
     "data": {
      "text/plain": [
       "<Figure size 432x288 with 0 Axes>"
      ]
     },
     "metadata": {},
     "output_type": "display_data"
    }
   ],
   "source": [
    "# Comparing number of 4G and 3G phones(long method) if they are only 4g\n",
    "sns.countplot(x=\"four_g\", hue=\"three_g\", data=mobile_data)\n",
    "plt.show()\n",
    "plt.clf()\n",
    "\n",
    "# Phones with 4G also have 3G"
   ]
  },
  {
   "cell_type": "code",
   "execution_count": 72,
   "id": "fc4af3b8",
   "metadata": {},
   "outputs": [
    {
     "data": {
      "image/png": "[encoded data removed]",
      "text/plain": [
       "<Figure size 432x288 with 1 Axes>"
      ]
     },
     "metadata": {
      "needs_background": "light"
     },
     "output_type": "display_data"
    },
    {
     "data": {
      "text/plain": [
       "<Figure size 432x288 with 0 Axes>"
      ]
     },
     "metadata": {},
     "output_type": "display_data"
    }
   ],
   "source": [
    "# Do phones with 4G have wifi connectivity(visualization)\n",
    "sns.countplot(x=\"four_g\", hue=\"wifi\", data=mobile_data)\n",
    "plt.show()\n",
    "plt.clf()\n",
    "\n",
    "# Most phones with 4G have no  wifi connectivity\n",
    "# Most phones without 4G have wifi connectivity"
   ]
  },
  {
   "cell_type": "code",
   "execution_count": 7,
   "id": "05a3fc9e",
   "metadata": {},
   "outputs": [
    {
     "data": {
      "image/png": "[encoded data removed]",
      "text/plain": [
       "<Figure size 432x288 with 1 Axes>"
      ]
     },
     "metadata": {
      "needs_background": "light"
     },
     "output_type": "display_data"
    },
    {
     "name": "stdout",
     "output_type": "stream",
     "text": [
      "-0.0006496637174011785 is the correlation coefficient.\n",
      "     ram  clock_speed\n",
      "0   3476          1.8\n",
      "1   3895          0.5\n",
      "2   2396          2.8\n",
      "3   3893          0.5\n",
      "4   1773          1.4\n",
      "5   3506          2.9\n",
      "6   3873          2.4\n",
      "7   1495          2.4\n",
      "8   3485          2.9\n",
      "9    651          0.5\n",
      "10  3866          2.2\n",
      "11  3911          2.9\n",
      "12   439          1.4\n",
      "13   992          2.2\n",
      "14  2751          1.8\n",
      "15   563          1.0\n",
      "16  2083          0.5\n",
      "17  2187          2.9\n",
      "18  3902          1.7\n",
      "19  2524          2.6\n"
     ]
    },
    {
     "data": {
      "text/plain": [
       "<Figure size 432x288 with 0 Axes>"
      ]
     },
     "metadata": {},
     "output_type": "display_data"
    }
   ],
   "source": [
    "# print(mobile_data.head())\n",
    "\n",
    "# Random subset\n",
    "mobile_data_sub = mobile_data.sample(n = int(mobile_data.shape[0] * 0.2))\n",
    "\n",
    "# Do devices with bigger ram take little time to execute\n",
    "plt.scatter(x=mobile_data_sub[\"ram\"], y=mobile_data_sub[\"clock_speed\"])\n",
    "plt.xlabel(\"RAM\")\n",
    "plt.ylabel(\"Clock Speed\")\n",
    "plt.show()\n",
    "plt.clf()\n",
    "\n",
    "# Correlation coefficient\n",
    "speed_ram_corr = np.corrcoef(mobile_data[\"ram\"], mobile_data[\"clock_speed\"])\n",
    "print(speed_ram_corr[0][1], \"is the correlation coefficient.\")\n",
    "\n",
    "# They are not correlated.\n",
    "speed_ram = mobile_data[[\"ram\", \"clock_speed\"]]\n",
    "print(speed_ram.head(20))"
   ]
  }
 ],
 "metadata": {
  "kernelspec": {
   "display_name": "Python 3 (ipykernel)",
   "language": "python",
   "name": "python3"
  },
  "language_info": {
   "codemirror_mode": {
    "name": "ipython",
    "version": 3
   },
   "file_extension": ".py",
   "mimetype": "text/x-python",
   "name": "python",
   "nbconvert_exporter": "python",
   "pygments_lexer": "ipython3",
   "version": "3.9.12"
  }
 },
 "nbformat": 4,
 "nbformat_minor": 5
}
